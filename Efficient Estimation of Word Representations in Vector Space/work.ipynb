{
 "cells": [
  {
   "cell_type": "code",
   "execution_count": 55,
   "id": "39061cf4",
   "metadata": {},
   "outputs": [
    {
     "name": "stdout",
     "output_type": "stream",
     "text": [
      "PyTorch Version: 2.5.1+cu124\n"
     ]
    }
   ],
   "source": [
    "import torch\n",
    "import torch.nn as nn\n",
    "import torch.optim as optim\n",
    "from torch.utils.data import Dataset, DataLoader\n",
    "\n",
    "from collections import Counter\n",
    "import numpy as np\n",
    "import re # For tokenization\n",
    "\n",
    "# For reproducibility\n",
    "torch.manual_seed(42)\n",
    "np.random.seed(42)\n",
    "\n",
    "print(\"PyTorch Version:\", torch.__version__)"
   ]
  },
  {
   "cell_type": "code",
   "execution_count": 56,
   "id": "c3f4726e",
   "metadata": {},
   "outputs": [
    {
     "name": "stdout",
     "output_type": "stream",
     "text": [
      "Using device: cuda\n"
     ]
    }
   ],
   "source": [
    "# --- Hyperparameters ---\n",
    "\n",
    "# Data and Vocabulary\n",
    "CONTEXT_SIZE = 2        # N: Number of previous words to consider\n",
    "MIN_WORD_FREQ = 1       # Keep all words for this small example\n",
    "\n",
    "# Model Architecture\n",
    "EMBEDDING_DIM = 30      # D: Dimension of word embeddings (keep small for demo)\n",
    "HIDDEN_DIM = 50         # H: Dimension of the hidden layer\n",
    "\n",
    "# Training\n",
    "BATCH_SIZE = 8\n",
    "NUM_EPOCHS = 100\n",
    "LEARNING_RATE = 0.01\n",
    "\n",
    "# Device configuration\n",
    "DEVICE = torch.device(\"cuda\" if torch.cuda.is_available() else \"cpu\")\n",
    "print(f\"Using device: {DEVICE}\")"
   ]
  },
  {
   "cell_type": "code",
   "execution_count": 57,
   "id": "2fb65f2e",
   "metadata": {},
   "outputs": [
    {
     "name": "stdout",
     "output_type": "stream",
     "text": [
      "Corpus size: 5 sentences\n"
     ]
    }
   ],
   "source": [
    "# --- Sample Data ---\n",
    "# Slightly larger corpus for NNLM context\n",
    "corpus = [\n",
    "    \"the cat sat on the mat\",\n",
    "    \"the dog chased the cat\",\n",
    "    \"a quick brown fox jumps over the lazy dog\",\n",
    "    \"the cat chased the mouse\",\n",
    "    \"the dog sat on the couch\"\n",
    "]\n",
    "\n",
    "print(f\"Corpus size: {len(corpus)} sentences\")"
   ]
  },
  {
   "cell_type": "code",
   "execution_count": 58,
   "id": "26e11783",
   "metadata": {},
   "outputs": [
    {
     "name": "stdout",
     "output_type": "stream",
     "text": [
      "\n",
      "Sample tokenized sentence: ['the', 'cat', 'sat', 'on', 'the', 'mat']\n",
      "Total tokens: 31\n"
     ]
    }
   ],
   "source": [
    "def tokenize(corpus):\n",
    "    \"\"\"Simple whitespace and punctuation tokenizer.\"\"\"\n",
    "    processed_corpus = []\n",
    "    all_tokens = []\n",
    "    for sentence in corpus:\n",
    "        sentence = sentence.lower()\n",
    "        sentence = re.sub(r'[^\\w\\s]', '', sentence)\n",
    "        tokens = sentence.split()\n",
    "        processed_corpus.append(tokens)\n",
    "        all_tokens.extend(tokens) # Collect all tokens for vocab building\n",
    "    return processed_corpus, all_tokens\n",
    "\n",
    "tokenized_corpus, all_tokens = tokenize(corpus)\n",
    "print(\"\\nSample tokenized sentence:\", tokenized_corpus[0])\n",
    "print(f\"Total tokens: {len(all_tokens)}\")\n",
    "# Output: Sample tokenized sentence: ['the', 'cat', 'sat', 'on', 'the', 'mat']\n",
    "# Output: Total tokens: 32"
   ]
  },
  {
   "cell_type": "code",
   "execution_count": 59,
   "id": "6e4f7a0e",
   "metadata": {},
   "outputs": [
    {
     "name": "stdout",
     "output_type": "stream",
     "text": [
      "Vocabulary size: 16\n",
      "Sample vocab words: ['the', 'cat', 'sat', 'on', 'mat', 'dog', 'chased', 'a', 'quick', 'brown']\n",
      "Sample word_to_id: [('the', 0), ('cat', 1), ('sat', 2), ('on', 3), ('mat', 4), ('dog', 5), ('chased', 6), ('a', 7), ('quick', 8), ('brown', 9)]\n"
     ]
    }
   ],
   "source": [
    "def build_vocab(all_tokens, min_freq):\n",
    "    \"\"\"Builds vocabulary and word/id mappings.\"\"\"\n",
    "    word_counts = Counter(all_tokens)\n",
    "    # No filtering needed if min_freq = 1 for this example\n",
    "    # vocab = [word for word, count in word_counts.items() if count >= min_freq]\n",
    "    vocab = list(word_counts.keys())\n",
    "\n",
    "    word_to_id = {word: i for i, word in enumerate(vocab)}\n",
    "    id_to_word = {i: word for i, word in enumerate(vocab)}\n",
    "\n",
    "    print(f\"Vocabulary size: {len(vocab)}\")\n",
    "    return vocab, word_to_id, id_to_word\n",
    "\n",
    "vocab, word_to_id, id_to_word = build_vocab(all_tokens, MIN_WORD_FREQ)\n",
    "VOCAB_SIZE = len(vocab)\n",
    "\n",
    "print(\"Sample vocab words:\", vocab[:10])\n",
    "print(\"Sample word_to_id:\", list(word_to_id.items())[:10])\n",
    "# Output: Sample vocab words: ['the', 'cat', 'sat', 'on', 'mat', 'dog', 'chased', 'a', 'quick', 'brown']\n",
    "# Output: Sample word_to_id: [('the', 0), ('cat', 1), ('sat', 2), ('on', 3), ('mat', 4), ('dog', 5), ('chased', 6), ('a', 7), ('quick', 8), ('brown', 9)]"
   ]
  },
  {
   "cell_type": "code",
   "execution_count": 60,
   "id": "0f3f7e6a",
   "metadata": {},
   "outputs": [
    {
     "name": "stdout",
     "output_type": "stream",
     "text": [
      "\n",
      "Total training examples created: 29\n",
      "Sample NNLM training examples ([context_ids], target_id):\n",
      "  Context: ['the', 'cat'] -> Target: sat\n",
      "  Context: ['cat', 'sat'] -> Target: on\n",
      "  Context: ['sat', 'on'] -> Target: the\n"
     ]
    }
   ],
   "source": [
    "def create_nnlm_examples(all_tokens, word_to_id, context_size):\n",
    "    \"\"\"Creates (context_ids, target_id) examples.\"\"\"\n",
    "    examples = []\n",
    "    # Convert all tokens to their IDs first\n",
    "    token_ids = [word_to_id[token] for token in all_tokens]\n",
    "\n",
    "    # Iterate through the token IDs, starting from the first possible target word\n",
    "    for i in range(context_size, len(token_ids)):\n",
    "        context_ids = token_ids[i - context_size : i] # Get the N previous IDs\n",
    "        target_id = token_ids[i]                  # Get the current ID as target\n",
    "        examples.append((context_ids, target_id))\n",
    "\n",
    "    return examples\n",
    "\n",
    "training_examples = create_nnlm_examples(all_tokens, word_to_id, CONTEXT_SIZE)\n",
    "print(f\"\\nTotal training examples created: {len(training_examples)}\")\n",
    "print(\"Sample NNLM training examples ([context_ids], target_id):\")\n",
    "for i in range(3):\n",
    "    print(f\"  Context: {[id_to_word[idx] for idx in training_examples[i][0]]} -> Target: {id_to_word[training_examples[i][1]]}\")\n",
    "# Example Output (N=2):\n",
    "#   Context: ['the', 'cat'] -> Target: sat\n",
    "#   Context: ['cat', 'sat'] -> Target: on\n",
    "#   Context: ['sat', 'on'] -> Target: the"
   ]
  },
  {
   "cell_type": "code",
   "execution_count": 61,
   "id": "f0155cf4",
   "metadata": {},
   "outputs": [
    {
     "name": "stdout",
     "output_type": "stream",
     "text": [
      "\n",
      "Sample Dataset Output (Tensors):\n",
      "  Context Tensor: tensor([1, 2]) (shape: torch.Size([2]))\n",
      "  Target Tensor: 3 (shape: torch.Size([]))\n"
     ]
    }
   ],
   "source": [
    "class NNLMDataset(Dataset):\n",
    "    def __init__(self, examples):\n",
    "        self.examples = examples\n",
    "\n",
    "    def __len__(self):\n",
    "        return len(self.examples)\n",
    "\n",
    "    def __getitem__(self, idx):\n",
    "        # Get the context IDs and target ID\n",
    "        context_ids, target_id = self.examples[idx]\n",
    "        # Convert them to PyTorch tensors (long type for indices)\n",
    "        return torch.tensor(context_ids, dtype=torch.long), torch.tensor(target_id, dtype=torch.long)\n",
    "\n",
    "# Instantiate the Dataset\n",
    "nnlm_dataset = NNLMDataset(training_examples)\n",
    "\n",
    "# Test the dataset - get one item\n",
    "context_tensor, target_tensor = nnlm_dataset[1]\n",
    "print(f\"\\nSample Dataset Output (Tensors):\")\n",
    "print(f\"  Context Tensor: {context_tensor} (shape: {context_tensor.shape})\")\n",
    "print(f\"  Target Tensor: {target_tensor} (shape: {target_tensor.shape})\")\n",
    "# Output:\n",
    "# Sample Dataset Output (Tensors):\n",
    "#  Context Tensor: tensor([0, 1]) (shape: torch.Size([2]))\n",
    "#  Target Tensor: 2 (shape: torch.Size([])) # Target is a scalar tensor"
   ]
  },
  {
   "cell_type": "code",
   "execution_count": 62,
   "id": "92594102",
   "metadata": {},
   "outputs": [
    {
     "name": "stdout",
     "output_type": "stream",
     "text": [
      "\n",
      "Model Architecture:\n",
      "NNLM(\n",
      "  (embeddings): Embedding(16, 30)\n",
      "  (linear1): Linear(in_features=60, out_features=50, bias=True)\n",
      "  (activation1): Tanh()\n",
      "  (linear2): Linear(in_features=50, out_features=16, bias=True)\n",
      ")\n",
      "\n",
      "Output logits shape for dummy batch: torch.Size([8, 16])\n"
     ]
    }
   ],
   "source": [
    "class NNLM(nn.Module):\n",
    "    def __init__(self, vocab_size, embedding_dim, context_size, hidden_dim):\n",
    "        super(NNLM, self).__init__()\n",
    "        self.vocab_size = vocab_size\n",
    "        self.embedding_dim = embedding_dim\n",
    "        self.context_size = context_size\n",
    "        self.hidden_dim = hidden_dim\n",
    "\n",
    "        # --- Layers ---\n",
    "        # 1. Embedding Layer (Projection Matrix C)\n",
    "        # Input: (batch_size, context_size) -> Output: (batch_size, context_size, embedding_dim)\n",
    "        self.embeddings = nn.Embedding(vocab_size, embedding_dim)\n",
    "\n",
    "        # 2. Linear layer from concatenated embeddings to hidden layer\n",
    "        # Input: (batch_size, context_size * embedding_dim) -> Output: (batch_size, hidden_dim)\n",
    "        self.linear1 = nn.Linear(context_size * embedding_dim, hidden_dim)\n",
    "\n",
    "        # 3. Non-linear activation function (tanh)\n",
    "        self.activation1 = nn.Tanh()\n",
    "\n",
    "        # 4. Linear layer from hidden layer to output layer (logits)\n",
    "        # Input: (batch_size, hidden_dim) -> Output: (batch_size, vocab_size)\n",
    "        self.linear2 = nn.Linear(hidden_dim, vocab_size)\n",
    "\n",
    "        # Optional: Initialize weights\n",
    "        self.init_weights()\n",
    "\n",
    "    def init_weights(self):\n",
    "        # Initialize embeddings and linear layers uniformly\n",
    "        initrange = 0.1 # A common range for initialization\n",
    "        self.embeddings.weight.data.uniform_(-initrange, initrange)\n",
    "        self.linear1.weight.data.uniform_(-initrange, initrange)\n",
    "        self.linear1.bias.data.zero_()\n",
    "        self.linear2.weight.data.uniform_(-initrange, initrange)\n",
    "        self.linear2.bias.data.zero_()\n",
    "\n",
    "    def forward(self, context_ids):\n",
    "        \"\"\"\n",
    "        Forward pass of the NNLM.\n",
    "        Args:\n",
    "            context_ids: Tensor of shape (batch_size, context_size) containing context word IDs.\n",
    "        Returns:\n",
    "            logits: Tensor of shape (batch_size, vocab_size) containing raw scores for each word.\n",
    "        \"\"\"\n",
    "        # 1. Get Embeddings for context words\n",
    "        # Input: (batch_size, context_size)\n",
    "        embeds = self.embeddings(context_ids)\n",
    "        # Output embeds: (batch_size, context_size, embedding_dim)\n",
    "\n",
    "        # 2. Concatenate Embeddings\n",
    "        # We need to reshape embeds to (batch_size, context_size * embedding_dim)\n",
    "        # view(batch_size, -1) automatically calculates the second dimension\n",
    "        concatenated_embeds = embeds.view(embeds.shape[0], -1)\n",
    "        # Alternative: torch.flatten(embeds, start_dim=1)\n",
    "        # Output concatenated_embeds: (batch_size, context_size * embedding_dim)\n",
    "\n",
    "        # 3. Pass through Hidden Layer\n",
    "        hidden_output = self.linear1(concatenated_embeds)\n",
    "        activated_output = self.activation1(hidden_output)\n",
    "        # Output activated_output: (batch_size, hidden_dim)\n",
    "\n",
    "        # 4. Pass through Output Layer\n",
    "        logits = self.linear2(activated_output)\n",
    "        # Output logits: (batch_size, vocab_size)\n",
    "\n",
    "        return logits\n",
    "\n",
    "# Instantiate the model\n",
    "model = NNLM(VOCAB_SIZE, EMBEDDING_DIM, CONTEXT_SIZE, HIDDEN_DIM).to(DEVICE)\n",
    "print(f\"\\nModel Architecture:\\n{model}\")\n",
    "\n",
    "# Example: Pass a dummy batch through the model to check shapes\n",
    "dummy_context = torch.randint(0, VOCAB_SIZE, (BATCH_SIZE, CONTEXT_SIZE)).to(DEVICE)\n",
    "output_logits = model(dummy_context)\n",
    "print(f\"\\nOutput logits shape for dummy batch: {output_logits.shape}\") # Should be (BATCH_SIZE, VOCAB_SIZE)"
   ]
  },
  {
   "cell_type": "code",
   "execution_count": 63,
   "id": "8946ca58",
   "metadata": {},
   "outputs": [
    {
     "name": "stdout",
     "output_type": "stream",
     "text": [
      "\n",
      "--- Starting Training ---\n",
      "Vocab size: 16\n",
      "Embedding dim: 30\n",
      "Context size: 2\n",
      "Hidden dim: 50\n",
      "Epochs: 100\n",
      "Batch size: 8\n",
      "Learning Rate: 0.01\n",
      "Training examples: 29\n",
      "Steps per epoch: 4\n",
      "Epoch [1/100], Average Loss: 2.7711\n",
      "Epoch [10/100], Average Loss: 0.5803\n",
      "Epoch [20/100], Average Loss: 0.3141\n",
      "Epoch [30/100], Average Loss: 0.3534\n",
      "Epoch [40/100], Average Loss: 0.2448\n",
      "Epoch [50/100], Average Loss: 0.2900\n",
      "Epoch [60/100], Average Loss: 0.2931\n",
      "Epoch [70/100], Average Loss: 0.2708\n",
      "Epoch [80/100], Average Loss: 0.2642\n",
      "Epoch [90/100], Average Loss: 0.3077\n",
      "Epoch [100/100], Average Loss: 0.2875\n",
      "--- Training Finished ---\n"
     ]
    }
   ],
   "source": [
    "# --- Training Setup ---\n",
    "dataloader = DataLoader(nnlm_dataset, batch_size=BATCH_SIZE, shuffle=True)\n",
    "\n",
    "# CrossEntropyLoss combines LogSoftmax and NLLLoss - suitable for classification\n",
    "# Expects raw logits from the model and class indices (target word IDs) as target\n",
    "loss_fn = nn.CrossEntropyLoss()\n",
    "optimizer = optim.Adam(model.parameters(), lr=LEARNING_RATE)\n",
    "\n",
    "print(f\"\\n--- Starting Training ---\")\n",
    "print(f\"Vocab size: {VOCAB_SIZE}\")\n",
    "print(f\"Embedding dim: {EMBEDDING_DIM}\")\n",
    "print(f\"Context size: {CONTEXT_SIZE}\")\n",
    "print(f\"Hidden dim: {HIDDEN_DIM}\")\n",
    "print(f\"Epochs: {NUM_EPOCHS}\")\n",
    "print(f\"Batch size: {BATCH_SIZE}\")\n",
    "print(f\"Learning Rate: {LEARNING_RATE}\")\n",
    "print(f\"Training examples: {len(training_examples)}\")\n",
    "print(f\"Steps per epoch: {len(dataloader)}\")\n",
    "\n",
    "# --- Training Loop ---\n",
    "model.train() # Set model to training mode\n",
    "\n",
    "for epoch in range(NUM_EPOCHS):\n",
    "    total_loss = 0\n",
    "    for i, (context_batch, target_batch) in enumerate(dataloader):\n",
    "        # Move data to device\n",
    "        context_batch = context_batch.to(DEVICE) # Shape: (batch_size, context_size)\n",
    "        target_batch = target_batch.to(DEVICE)   # Shape: (batch_size,)\n",
    "\n",
    "        # Zero gradients\n",
    "        optimizer.zero_grad()\n",
    "\n",
    "        # Forward pass -> Get logits\n",
    "        logits = model(context_batch) # Shape: (batch_size, vocab_size)\n",
    "\n",
    "        # Calculate loss\n",
    "        # CrossEntropyLoss needs logits (N, C) and targets (N)\n",
    "        # where C = number of classes (vocab_size)\n",
    "        loss = loss_fn(logits, target_batch)\n",
    "\n",
    "        # Backward pass -> Calculate gradients\n",
    "        loss.backward()\n",
    "\n",
    "        # Update weights\n",
    "        optimizer.step()\n",
    "\n",
    "        total_loss += loss.item()\n",
    "\n",
    "    # Print average loss for the epoch\n",
    "    avg_loss = total_loss / len(dataloader) if len(dataloader) > 0 else 0\n",
    "    if (epoch + 1) % 10 == 0 or epoch == 0: # Print every 10 epochs\n",
    "      print(f'Epoch [{epoch+1}/{NUM_EPOCHS}], Average Loss: {avg_loss:.4f}')\n",
    "\n",
    "print(\"--- Training Finished ---\")"
   ]
  },
  {
   "cell_type": "code",
   "execution_count": 64,
   "id": "d5bf8875",
   "metadata": {},
   "outputs": [
    {
     "name": "stdout",
     "output_type": "stream",
     "text": [
      "\n",
      "--- Prediction Example ---\n",
      "Context: ['the', 'cat'] -> Predicted next word: sat\n",
      "Context: ['dog', 'chased'] -> Predicted next word: the\n"
     ]
    }
   ],
   "source": [
    "def predict_next_word(model, context_words, word_to_id, id_to_word, context_size):\n",
    "    \"\"\"Predicts the most likely next word given a context.\"\"\"\n",
    "    model.eval() # Set model to evaluation mode\n",
    "\n",
    "    if len(context_words) != context_size:\n",
    "        print(f\"Error: Context length must be {context_size}\")\n",
    "        return\n",
    "\n",
    "    # Check if all context words are in vocabulary\n",
    "    for word in context_words:\n",
    "        if word not in word_to_id:\n",
    "            print(f\"Error: Context word '{word}' not in vocabulary.\")\n",
    "            return\n",
    "\n",
    "    # Convert context words to tensor of IDs\n",
    "    context_ids = [word_to_id[word] for word in context_words]\n",
    "    context_tensor = torch.tensor([context_ids], dtype=torch.long).to(DEVICE) # Add batch dimension\n",
    "\n",
    "    # Get logits from the model\n",
    "    with torch.no_grad(): # No need to calculate gradients during inference\n",
    "        logits = model(context_tensor) # Shape: (1, vocab_size)\n",
    "\n",
    "    # Find the index of the highest logit\n",
    "    predicted_id = torch.argmax(logits, dim=1).item()\n",
    "\n",
    "    # Convert ID back to word\n",
    "    predicted_word = id_to_word[predicted_id]\n",
    "\n",
    "    # Optional: Get probability distribution using softmax\n",
    "    # probabilities = torch.softmax(logits, dim=1).squeeze().cpu().numpy()\n",
    "    # probability_of_predicted = probabilities[predicted_id]\n",
    "    # print(f\"(Probability: {probability_of_predicted:.4f})\")\n",
    "\n",
    "    return predicted_word\n",
    "\n",
    "# --- Prediction ---\n",
    "print(\"\\n--- Prediction Example ---\")\n",
    "context1 = [\"the\", \"cat\"]\n",
    "if len(context1) == CONTEXT_SIZE:\n",
    "    prediction1 = predict_next_word(model, context1, word_to_id, id_to_word, CONTEXT_SIZE)\n",
    "    print(f\"Context: {context1} -> Predicted next word: {prediction1}\")\n",
    "else:\n",
    "    print(f\"Skipping prediction for {context1} (context size mismatch)\")\n",
    "\n",
    "\n",
    "context2 = [\"dog\", \"chased\"]\n",
    "if len(context2) == CONTEXT_SIZE:\n",
    "    prediction2 = predict_next_word(model, context2, word_to_id, id_to_word, CONTEXT_SIZE)\n",
    "    print(f\"Context: {context2} -> Predicted next word: {prediction2}\")\n",
    "else:\n",
    "     print(f\"Skipping prediction for {context2} (context size mismatch)\")\n",
    "\n",
    "# Note: Predictions on this tiny dataset might not be very meaningful!"
   ]
  }
 ],
 "metadata": {
  "kernelspec": {
   "display_name": "Python 3",
   "language": "python",
   "name": "python3"
  },
  "language_info": {
   "codemirror_mode": {
    "name": "ipython",
    "version": 3
   },
   "file_extension": ".py",
   "mimetype": "text/x-python",
   "name": "python",
   "nbconvert_exporter": "python",
   "pygments_lexer": "ipython3",
   "version": "3.11.0"
  }
 },
 "nbformat": 4,
 "nbformat_minor": 5
}
